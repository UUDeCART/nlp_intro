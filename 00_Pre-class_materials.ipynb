{
 "cells": [
  {
   "cell_type": "markdown",
   "metadata": {},
   "source": [
    "## Welcome to the one-day \"introduction to annotation for NLP\" class!\n",
    "\n",
    "## Instructors: Wendy Chapman\n",
    "## Thanks to Olga Peterson for some of the materials\n",
    "\n",
    "\n",
    "A hypothetical healthcare delivery system has asked us to determine whether use of opioids is associated with increased risk of community-acquired pneumonia in adults. It is our job to identify patients with pneumonia so that the health services team can assess the risk based on pharmacy data. There is not enough time to manually read through the thousands of charts, so we will apply natural language processing for the task. A critical part of developing an NLP system is creating an annotated dataset for development of the tool and for testing of the tool. \n",
    "\n",
    "In this class, we will create an annotated dataset for the NLP project. The rule-based NLP course will use a similar dataset to evaluate performance of the tool.\n",
    "\n",
    "### Learning objectives: \n",
    "1. Define a dataset for training and testing NLP performance\n",
    "2. Define concepts to extract with NLP\n",
    "3. Develop annotation guidelines\n",
    "4. Design an annotation study\n",
    "5. Annotate a reference standard set using existing annotation tools\n",
    "6. Evaluate agreement among annotators\n",
    "7. Determine the reliability of the annotated dataset\n"
   ]
  },
  {
   "cell_type": "markdown",
   "metadata": {},
   "source": [
    "# Before the course, please do all of the following:"
   ]
  },
  {
   "cell_type": "markdown",
   "metadata": {},
   "source": [
    "## 1. Introduction to pneumonia\n",
    "### Please watch this video:"
   ]
  },
  {
   "cell_type": "code",
   "execution_count": null,
   "metadata": {
    "collapsed": true
   },
   "outputs": [],
   "source": [
    "from IPython.display import YouTubeVideo\n",
    "YouTubeVideo(\"0xvaYVoBwzU\")"
   ]
  },
  {
   "cell_type": "markdown",
   "metadata": {},
   "source": [
    "## 2. Introduction to radiologic diagnosis of pneumonia\n",
    "### Please watch this video:"
   ]
  },
  {
   "cell_type": "code",
   "execution_count": null,
   "metadata": {
    "collapsed": true
   },
   "outputs": [],
   "source": [
    "from IPython.display import YouTubeVideo\n",
    "YouTubeVideo(\"uhRIu8bDYA0\")"
   ]
  },
  {
   "cell_type": "markdown",
   "metadata": {},
   "source": [
    "## 3. Please take this quiz on pneumonia:\n",
    "https://goo.gl/forms/OsySYLhPclplK4hw1"
   ]
  },
  {
   "cell_type": "markdown",
   "metadata": {
    "collapsed": true
   },
   "source": [
    "## Additional resources\n",
    "### The actual case study that we designed the course around:\n",
    "https://www.ncbi.nlm.nih.gov/pubmed/22091503\n",
    "\n",
    "### The process for manual chart review (we want to improve on it using NLP):\n",
    "https://www.ncbi.nlm.nih.gov/pmc/articles/PMC2277255/"
   ]
  },
  {
   "cell_type": "markdown",
   "metadata": {
    "collapsed": true
   },
   "source": [
    "## Adjust the notebook text font size if needed\n",
    "If you find the default font is too small, run the following cell, to adjust your default font size. Then refresh your browser, you will see the changes:\n"
   ]
  },
  {
   "cell_type": "code",
   "execution_count": null,
   "metadata": {},
   "outputs": [],
   "source": [
    "!rm -rf ~/.jupyter/custom \n",
    "!mkdir ~/.jupyter/custom\n",
    "!echo \"div.text_cell_render{color:#0f3c84;font-size: 13pt;}\\ndiv.output_html, table.dataframe{font-size: 10pt;}\" | tee ~/.jupyter/custom/custom.css"
   ]
  },
  {
   "cell_type": "markdown",
   "metadata": {},
   "source": [
    "<br/><br/>This material presented as part of the DeCART Data Science for the Health Science Summer Program at the University of Utah in 2018.<br/>\n",
    "Presenters : Dr. Wendy Chapman, Jianlin Shi <br> Acknowledgement: Many thanks to Kelly Peterson and Olga Patterson because part of the materials are adopted from his previous work."
   ]
  },
  {
   "cell_type": "code",
   "execution_count": null,
   "metadata": {},
   "outputs": [],
   "source": []
  }
 ],
 "metadata": {
  "kernelspec": {
   "display_name": "Python 3",
   "language": "python",
   "name": "python3"
  },
  "language_info": {
   "codemirror_mode": {
    "name": "ipython",
    "version": 3
   },
   "file_extension": ".py",
   "mimetype": "text/x-python",
   "name": "python",
   "nbconvert_exporter": "python",
   "pygments_lexer": "ipython3",
   "version": "3.6.3"
  }
 },
 "nbformat": 4,
 "nbformat_minor": 2
}
