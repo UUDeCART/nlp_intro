{
 "cells": [
  {
   "cell_type": "markdown",
   "metadata": {},
   "source": []
  },
  {
   "cell_type": "markdown",
   "metadata": {},
   "source": [
    "## What is the purpose of annotation?\n",
    "1. Create a training or development set for NLP \n",
    "2. Test NLP against a \"reference standard\""
   ]
  },
  {
   "cell_type": "markdown",
   "metadata": {},
   "source": [
    "## What is annotation?\n",
    "![image.png](./Slide_pngs/Slide08.png)"
   ]
  },
  {
   "cell_type": "markdown",
   "metadata": {},
   "source": [
    "## Annotation workflow\n",
    "![image.png](./Slide_pngs/Slide09.png)"
   ]
  },
  {
   "cell_type": "markdown",
   "metadata": {},
   "source": [
    "## Markables – elements to be annotated\n",
    "Annotation type = label to be assigned to a segment of text\n",
    "\n",
    "Relationship = link between instances of annotations\n",
    "\n",
    "Attributes = features of annotation types and relationships\n",
    "\n",
    "## Annotation Schema – collection of all markables for a project"
   ]
  },
  {
   "cell_type": "markdown",
   "metadata": {},
   "source": [
    "## Concept definition\n",
    "Diagnosis, lab test, action, event…\n",
    "## Variable definition – Values that the concepts can have\n",
    "Diagnosis: explicitly mentioned or inferred \n",
    "Lab test: exact numeric value or range or direction\n",
    "Action: planned or occurred\n",
    "Event: explicitly mentioned or inferred\n",
    "## Level of the annotation \n",
    "patient, event, document, or phrase\n",
    "## Attribute definition – additional labels to labels"
   ]
  },
  {
   "cell_type": "markdown",
   "metadata": {},
   "source": [
    "![image.png](attachment:image.png)"
   ]
  },
  {
   "cell_type": "markdown",
   "metadata": {},
   "source": [
    "# Let's define the variables in our project: identifying patients with pneumonia\n",
    "Fill in the cells of the table with your answers\n",
    "\n",
    "| Level        | Source           | Concept definition |  Variable  | Attribute |\n",
    "| ------------ |-------------| -----|-----|-------|\n",
    "|      |  | |  |  |\n"
   ]
  },
  {
   "cell_type": "markdown",
   "metadata": {},
   "source": [
    "## Document level annotation is what our clients care about, but to build the NLP system we need to be able to identify mentions/markables in the text that demonstrate evidence for pneumonia \n",
    "We had an expert annotate some reports at the document level and mark evidence in the reports so that we can learn how she determines when a document is positive for pneumonia"
   ]
  },
  {
   "cell_type": "markdown",
   "metadata": {},
   "source": [
    "## We can examine those reports and begin to create definitions of mentions that provide evidence\n",
    "Go to this notebook to explore a few reports, then return here to create your variables: \"Exploring Expert Annotations\""
   ]
  },
  {
   "cell_type": "markdown",
   "metadata": {},
   "source": [
    "## Here is an article Wendy published as part of her dissertation looking at the finding-disease continuum of pneumonia in chest x-ray reports\n",
    "![image.png](attachment:image.png)"
   ]
  },
  {
   "cell_type": "markdown",
   "metadata": {},
   "source": [
    "## Fill in the cells of the table with variables you want to identify as mentions (evidence in the text)\n",
    "| Level        | Source           | Concept definition |  Variable  | Attribute |\n",
    "| ------------ |-------------| -----|-----|-------|\n",
    "| document     | chest x-ray reports | evidence of pneumonia descdribed in the report| PNEUMONIA_DOC_YES |  |\n",
    "| document     | chest x-ray reports | no evidence of pneumonia descdribed in the report| PNEUMONIA_DOC_NO |  |\n",
    "| mention      | chest x-ray reports | mention of pneumonia | PNEUMONIA | asserted, negated, uncertain |\n",
    "| mention      | chest x-ray reports | mention of consolidation | CONSOLIDATION | asserted, negated, uncertain |\n",
    "| mention      | chest x-ray reports | mention of localized infiltrate | LOCAL_INFILTRATE | asserted, negated, uncertain |\n",
    "\n",
    "To make the annotation task easier, at mention level, we only annotate asserted mentions.\n"
   ]
  },
  {
   "cell_type": "markdown",
   "metadata": {},
   "source": [
    "## If you are going to annotate mentions, you have to think about the span\n",
    "![image.png](./Slide_pngs/Slide19.png)"
   ]
  },
  {
   "cell_type": "markdown",
   "metadata": {},
   "source": [
    "## All of your instructions should go into a document that is your annotation guideline \n",
    "### Use these to train your annotators - it is a living document during the training phase until you freeze it\n",
    "![image.png](./Slide_pngs/Slide20.png)"
   ]
  },
  {
   "cell_type": "markdown",
   "metadata": {},
   "source": [
    "Here's a paper to help you think through what to include or not include when marking symptoms and diseases in clinical text: \n",
    "AnnotationNLP/chapman_jbi_2007_annotation_schema.pdf"
   ]
  },
  {
   "cell_type": "markdown",
   "metadata": {},
   "source": [
    "<br/><br/>This material presented as part of the DeCART Data Science for the Health Science Summer Program at the University of Utah in 2018.<br/>\n",
    "Presenters : Dr. Wendy Chapman, Jianlin Shi <br> Acknowledgement: Many thanks to Kelly Peterson and Olga Patterson because part of the materials are adopted from his previous work."
   ]
  },
  {
   "cell_type": "code",
   "execution_count": null,
   "metadata": {},
   "outputs": [],
   "source": []
  }
 ],
 "metadata": {
  "kernelspec": {
   "display_name": "Python 3",
   "language": "python",
   "name": "python3"
  },
  "language_info": {
   "codemirror_mode": {
    "name": "ipython",
    "version": 3
   },
   "file_extension": ".py",
   "mimetype": "text/x-python",
   "name": "python",
   "nbconvert_exporter": "python",
   "pygments_lexer": "ipython3",
   "version": "3.6.3"
  }
 },
 "nbformat": 4,
 "nbformat_minor": 2
}
