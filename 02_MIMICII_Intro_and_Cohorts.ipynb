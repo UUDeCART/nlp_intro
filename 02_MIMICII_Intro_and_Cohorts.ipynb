{
 "cells": [
  {
   "cell_type": "markdown",
   "metadata": {},
   "source": [
    "## NOTE : This notebook was originally created by Dr. Brian Chapman and others.  It has been modified slightly for our 2017 course."
   ]
  },
  {
   "cell_type": "markdown",
   "metadata": {},
   "source": [
    "# Identifying Patient Cohorts in [MIMIC-II](http://www.ncbi.nlm.nih.gov/pmc/articles/PMC3124312/)\n"
   ]
  },
  {
   "cell_type": "markdown",
   "metadata": {},
   "source": [
    "[MIMIC-II](https://physionet.org/mimic2/mimic2_clinical_overview.shtml) is a freely available database of ICU patients. To access the full database (now migrated to [MIMIC-III](https://www.nature.com/articles/sdata201635.pdf))  you must sign a data use agreement. However, there is a [demo data set](https://physionet.org/mimic2/demo/) based on 4000 deceased patients that can be used without signing any DUA.\n",
    "\n",
    "## How to Use the MIMIC-II Database\n",
    "* [MIMIC-II Cookbook](https://physionet.org/mimic2/demo/MIMICIICookBook_v1.pdf)\n",
    "* [MIMIC Data Dictionaries](http://physionet.incor.usp.br/physiobank/database/dictionaries/)\n",
    "\n",
    "\n",
    "## The Varieties of...Data\n",
    "The data set is very rich and so is a good resource for exploring the varieties of clinical data\n",
    "\n",
    "![MIMIC Paper](./images/mimic_paper_header.jpg)\n",
    "![MIMIC Publications](./images/mimic_publications.jpg)\n",
    "(Sources : https://mimic.physionet.org/)\n",
    "\n",
    "Data incluces free text notes (nursing, radiology, discharg summaries, etc.), input/output events, test results, procedure codes, diagnosis codes, etc."
   ]
  },
  {
   "cell_type": "markdown",
   "metadata": {},
   "source": [
    "# Very Short FAQ : \n",
    "* Q : What is the difference between MIMIC-II and MIMIC-III?\n",
    "* A : MIMIC-II spans the time period of 2001 to 2008.  MIMIC-III spans 2001 to 2012 so it contains more data.  In addition, some data structures have been improved to make MIMIC-III easier to work with.  Some data quality issues have been resolved as well\n",
    "\n",
    "\n",
    "* Q : How can I get access to MIMIC-III for my own research?\n",
    "* A : You'll need to do CITI training and then some other steps.  Start here: https://mimic.physionet.org/gettingstarted/access/"
   ]
  },
  {
   "cell_type": "code",
   "execution_count": null,
   "metadata": {},
   "outputs": [],
   "source": [
    "%matplotlib inline"
   ]
  },
  {
   "cell_type": "code",
   "execution_count": null,
   "metadata": {},
   "outputs": [],
   "source": [
    "import pymysql\n",
    "import pandas as pd\n",
    "import getpass\n",
    "import pandas as pd\n",
    "import seaborn as sns"
   ]
  },
  {
   "cell_type": "code",
   "execution_count": null,
   "metadata": {},
   "outputs": [],
   "source": [
    "conn = pymysql.connect(host=\"mysql\",\n",
    "                       port=3306,user=\"jovyan\",\n",
    "                       passwd=getpass.getpass(\"Enter MySQL passwd for jovyan\"),db='mimic2')\n",
    "cursor = conn.cursor()"
   ]
  },
  {
   "cell_type": "markdown",
   "metadata": {},
   "source": [
    "## Example Query: Identifying ICD9 Codes for Patients"
   ]
  },
  {
   "cell_type": "code",
   "execution_count": null,
   "metadata": {},
   "outputs": [],
   "source": [
    "icd9_codes = pd.read_sql('SELECT subject_id, code, description from icd9',conn)\n"
   ]
  },
  {
   "cell_type": "code",
   "execution_count": null,
   "metadata": {},
   "outputs": [],
   "source": [
    "icd9_counts = icd9_codes[\"description\"].value_counts([\"description\"]).to_frame(name=\"ICD9 Counts\")\n",
    "icd9_counts.head(10)"
   ]
  },
  {
   "cell_type": "markdown",
   "metadata": {},
   "source": [
    "## Selecting Cohorts\n",
    "\n",
    "Our most interesting explorations will be when we use information from multiple tables to limit/select cases. Here is an example selecting radiology reports for patients with COPD."
   ]
  },
  {
   "cell_type": "markdown",
   "metadata": {},
   "source": [
    "## Select all the radiology reports for a patient with COPD\n",
    "### [Codes obtained from CDC](http://www.cdc.gov/niosh/pdfs/98-157-d.pdf)\n",
    "* chronic bronchitis (ICD-9 codes 490-491)\n",
    "* emphysema (ICD-9 code 492)\n",
    "* bronchiectasis (ICD-9 code 494)\n",
    "* chronic airway obstruction (ICD-9 code 496). \n",
    "\n",
    "The **\\** character indicates a line continuation."
   ]
  },
  {
   "cell_type": "code",
   "execution_count": null,
   "metadata": {},
   "outputs": [],
   "source": [
    "copd_data = \\\n",
    "pd.read_sql(\"\"\"SELECT noteevents.subject_id, \n",
    "                      noteevents.category, \n",
    "                      noteevents.text, \n",
    "                      icd9.code \n",
    "               FROM noteevents INNER JOIN icd9 ON \n",
    "                      noteevents.subject_id = icd9.subject_id \n",
    "               WHERE (   icd9.code LIKE '490%' OR\n",
    "                         icd9.code LIKE '491%' OR\n",
    "                         icd9.code LIKE '492%' OR\n",
    "                         icd9.code LIKE '494%' OR\n",
    "                         icd9.code LIKE '496%'\n",
    "                      ) \n",
    "                      AND noteevents.category = 'RADIOLOGY_REPORT'\"\"\",conn)\n",
    "copd_data.head(20)"
   ]
  },
  {
   "cell_type": "markdown",
   "metadata": {},
   "source": [
    "<img src=\"images/stopsign.png\">\n",
    "## STOP!  We don't have time to continue these exercises in the MIMIC dataset, but we encourage you to come back to these later to understand the set and how to work with it"
   ]
  },
  {
   "cell_type": "markdown",
   "metadata": {},
   "source": [
    "## Exercise\n",
    "\n",
    "* Based on the query described on page 20 of the [MIMIC-II Cookbook](../Resources/MIMICIICookBook_v1.pdf) create a dataframe of urine output values from the database. Limit the query to a reasonable number of results\n",
    "* Create a visualization of the values"
   ]
  },
  {
   "cell_type": "markdown",
   "metadata": {},
   "source": [
    "## Exercise \n",
    "\n",
    "Come up with a visualization of the top ICD9 codes"
   ]
  },
  {
   "cell_type": "markdown",
   "metadata": {
    "collapsed": true
   },
   "source": [
    "## Exercise\n",
    "\n",
    "If you do not know details about your data base, how might you use Pandas to discover the nature of your database? For exmaple, how might you learn the possible values for ``category`` in ``chart_events``?"
   ]
  },
  {
   "cell_type": "code",
   "execution_count": null,
   "metadata": {},
   "outputs": [],
   "source": []
  },
  {
   "cell_type": "markdown",
   "metadata": {},
   "source": [
    "## Exercise\n",
    "\n",
    "1. Use online resources (e.g. [findacode](https://www.findacode.com/search/search.php), [CMS](https://www.cms.gov/medicare/coding/ICD9providerdiagnosticcodes/codes.html)) or clinical knowledge to select patients with a disease (or diseases) of interest to you. Use the mimic cookbook or data dictionaries to identify variables of interest."
   ]
  },
  {
   "cell_type": "code",
   "execution_count": null,
   "metadata": {},
   "outputs": [],
   "source": []
  },
  {
   "cell_type": "markdown",
   "metadata": {},
   "source": [
    "<br/><br/>This material presented as part of the DeCART Data Science for the Health Science Summer Program at the University of Utah in 2018.<br/>\n",
    "Presenters : Dr. Wendy Chapman, Jianlin Shi <br> Acknowledgement: Many thanks to Kelly Peterson, because part of the materials are adopted from his previous work."
   ]
  }
 ],
 "metadata": {
  "kernelspec": {
   "display_name": "Python 3",
   "language": "python",
   "name": "python3"
  },
  "language_info": {
   "codemirror_mode": {
    "name": "ipython",
    "version": 3
   },
   "file_extension": ".py",
   "mimetype": "text/x-python",
   "name": "python",
   "nbconvert_exporter": "python",
   "pygments_lexer": "ipython3",
   "version": "3.6.3"
  },
  "widgets": {
   "state": {},
   "version": "1.1.2"
  }
 },
 "nbformat": 4,
 "nbformat_minor": 1
}
