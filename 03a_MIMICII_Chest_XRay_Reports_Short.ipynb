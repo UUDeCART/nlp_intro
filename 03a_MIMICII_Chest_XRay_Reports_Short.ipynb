{
 "cells": [
  {
   "cell_type": "code",
   "execution_count": null,
   "metadata": {},
   "outputs": [],
   "source": [
    "# If your container doesn't have any of the following resources, just run this cell once.\n",
    "!pip install pymysql\n",
    "!pip install sqlalchemy\n",
    "!pip install gensim\n",
    "import nltk\n",
    "nltk.download('punkt')"
   ]
  },
  {
   "cell_type": "markdown",
   "metadata": {},
   "source": [
    "# Exploring the MIMIC Chest X-ray reports\n",
    "\n",
    "In this notebook, we will take a glance at the MIMIC dataset. Then narrow our scope to the chest x-ray reports. With a few examples of how to interact with MySQL database to pull the data."
   ]
  },
  {
   "cell_type": "code",
   "execution_count": null,
   "metadata": {},
   "outputs": [],
   "source": [
    "# import packages\n",
    "import pymysql\n",
    "import pandas as pd\n",
    "import getpass\n",
    "from textblob import TextBlob\n",
    "import re\n",
    "import scipy\n",
    "import matplotlib.pyplot as plt\n",
    "import ipywidgets\n",
    "from IPython.display import display, HTML, clear_output\n",
    "from ipywidgets import interact, interactive, fixed\n",
    "from sqlalchemy import create_engine\n",
    "from gensim.parsing.preprocessing import STOPWORDS\n",
    "from collections import Counter\n",
    "import sys\n",
    "%matplotlib inline"
   ]
  },
  {
   "cell_type": "markdown",
   "metadata": {},
   "source": [
    "### 1. Connect MySQL DB\n",
    "Set up our MySQL connection with SQL Alchemy (this helps us to read directly into Pandas DataFrames"
   ]
  },
  {
   "cell_type": "code",
   "execution_count": null,
   "metadata": {},
   "outputs": [],
   "source": [
    "engine = create_engine('mysql+pymysql://{0}:{1}@{2}:{3}/{4}'\n",
    "                      .format('jovyan', \n",
    "                             getpass.getpass('Enter MySQL password for jovyan'),\n",
    "                             'mysql',\n",
    "                             '3306',\n",
    "                             'mimic2'))"
   ]
  },
  {
   "cell_type": "markdown",
   "metadata": {},
   "source": [
    "### 2. Explore the MIMIC\n",
    "Before we move ahead, we will do some counts of patients, admissions and notes to ensure connectivity and also get a sense of the dataset"
   ]
  },
  {
   "cell_type": "code",
   "execution_count": null,
   "metadata": {},
   "outputs": [],
   "source": [
    "pd.read_sql_query('SELECT count(*) as PatientCount from d_patients', engine)\n",
    "pd.read_sql_query('SELECT count(*) as AdmissionCount from admissions', engine)\n",
    "pd.read_sql_query('SELECT count(*) as NoteCount from noteevents', engine)\n",
    "pd.read_sql_query('SELECT count(DISTINCT code) as Distinct_ICD9_Codes from icd9 LIMIT 5', engine)"
   ]
  },
  {
   "cell_type": "code",
   "execution_count": null,
   "metadata": {},
   "outputs": [],
   "source": [
    "#Let try to pull the most popular ICD9 codes:\n",
    "pd.read_sql_query(\"\"\"SELECT \n",
    "                                 code, description, COUNT(*) counts \n",
    "                             FROM \n",
    "                                 icd9 \n",
    "                             GROUP BY \n",
    "                                 code,description \n",
    "                             ORDER BY counts DESC \n",
    "                             LIMIT 10\"\"\", engine)"
   ]
  },
  {
   "cell_type": "code",
   "execution_count": null,
   "metadata": {},
   "outputs": [],
   "source": [
    "#Get down to see how to pull notes:\n",
    "pd.read_sql_query('SELECT * from noteevents LIMIT 5', engine)"
   ]
  },
  {
   "cell_type": "markdown",
   "metadata": {},
   "source": [
    "### now let's get a dataframe of Patient/Admit/Pneumonia\n",
    "#### This is a useful and efficient query."
   ]
  },
  {
   "cell_type": "code",
   "execution_count": null,
   "metadata": {},
   "outputs": [],
   "source": [
    "\n",
    "pneumonia_query = \"\"\"\n",
    "    SELECT \n",
    "a.subject_id\n",
    ",a.hadm_id\n",
    ",a.admit_dt\n",
    ",(CASE WHEN pneu.HADM_ID IS NOT NULL THEN 1 ELSE 0 END) as Encounter_Pneumonia_Diagnosis\n",
    "FROM admissions a\n",
    "LEFT JOIN \n",
    "(\n",
    "    SELECT\n",
    "    d.HADM_ID\n",
    "    FROM  icd9 d\n",
    "    WHERE\n",
    "        (code like '486%%')\n",
    "    GROUP BY d.HADM_ID\n",
    ") pneu\n",
    "ON a.HADM_ID = pneu.HADM_ID\n",
    "\"\"\"\n",
    "pat_admit_pneumonia_df = pd.read_sql_query(pneumonia_query, engine)\n",
    "pat_admit_pneumonia_df.head(10)"
   ]
  },
  {
   "cell_type": "code",
   "execution_count": null,
   "metadata": {},
   "outputs": [],
   "source": [
    "pat_admit_pneumonia_df.shape"
   ]
  },
  {
   "cell_type": "code",
   "execution_count": null,
   "metadata": {},
   "outputs": [],
   "source": []
  },
  {
   "cell_type": "code",
   "execution_count": null,
   "metadata": {},
   "outputs": [],
   "source": [
    "# let's get a count of how many PNEUMONIA vs NO-PNEUMONIA admits we have\n",
    "pneumonia_admit_count_df = pat_admit_pneumonia_df.groupby('Encounter_Pneumonia_Diagnosis').size()\n",
    "pneumonia_admit_count_df"
   ]
  },
  {
   "cell_type": "markdown",
   "metadata": {},
   "source": [
    "## 4. What Radiology Reports Are We Interested In?\n",
    "\n",
    "### Use this  SQL queries to explore all readiology reports and find the sub-categories you want to include\n",
    "\n",
    "\n",
    "```SQL\n",
    "SELECT\n",
    "subject_id\n",
    ",hadm_id\n",
    ",LTRIM(RTRIM(text)) as txt\n",
    "FROM noteevents\n",
    "WHERE category = 'RADIOLOGY_REPORT'\n",
    "    AND subject_id is not NULL\n",
    "    AND hadm_id is not NULL        \n",
    "GROUP BY subject_id, hadm_id, txt\n",
    "```\n"
   ]
  },
  {
   "cell_type": "code",
   "execution_count": null,
   "metadata": {},
   "outputs": [],
   "source": [
    "# now let's pull a frame of all the FIRST (sorted by text which begins with date) CHEST X-RAY notes\n",
    "chest_xray_note_query = \\\n",
    "\"\"\"\n",
    "SELECT\n",
    "subject_id\n",
    ",hadm_id\n",
    ",LTRIM(RTRIM(text)) as txt\n",
    "FROM noteevents\n",
    "WHERE category = 'RADIOLOGY_REPORT'\n",
    "    AND subject_id is not NULL\n",
    "    AND hadm_id is not NULL        \n",
    "GROUP BY subject_id, hadm_id, txt\n",
    "\"\"\"\n",
    "chest_xray_note_df = pd.read_sql_query(chest_xray_note_query, engine)\n",
    "print(\"Shape of DataFrame Queries\", chest_xray_note_df.shape)\n",
    "chest_xray_note_df.head(10)"
   ]
  },
  {
   "cell_type": "code",
   "execution_count": null,
   "metadata": {},
   "outputs": [],
   "source": [
    "for _,row in chest_xray_note_df.sample(frac=0.2).iterrows():\n",
    "    clear_output()\n",
    "    print(row['txt'])\n",
    "    input('continue')"
   ]
  },
  {
   "cell_type": "markdown",
   "metadata": {},
   "source": [
    "### Modify the SQL query to filter radiology reports to \"only\" include the type of reports we are interested in\n",
    "\n",
    "**HINT:** Use the SQL [`LIKE`](https://www.w3schools.com/sql/sql_like.asp) statement\n",
    "\n",
    "\n",
    "```SQL\n",
    "SELECT\n",
    "subject_id\n",
    ",hadm_id\n",
    ",LTRIM(RTRIM(text)) as txt\n",
    "FROM noteevents\n",
    "WHERE category = 'RADIOLOGY_REPORT'\n",
    "    AND subject_id is not NULL\n",
    "    AND hadm_id is not NULL        \n",
    "GROUP BY subject_id, hadm_id, txt\n",
    "```\n"
   ]
  },
  {
   "cell_type": "code",
   "execution_count": null,
   "metadata": {},
   "outputs": [],
   "source": [
    "chest_xray_note_query = \\\n",
    "\"\"\"\n",
    "\n",
    "\"\"\"\n",
    "chest_xray_note_df = pd.read_sql_query(chest_xray_note_query, engine)\n",
    "print(\"Shape of DataFrame Queries\", chest_xray_note_df.shape)\n",
    "chest_xray_note_df.head(10)"
   ]
  },
  {
   "cell_type": "markdown",
   "metadata": {},
   "source": [
    "## Use Pandas [`merge`](https://pandas.pydata.org/pandas-docs/stable/merging.html) function to merge our DataFrame that has ICD-9 codes with the DataFrame that has notes \n",
    "\n",
    "### Exercise: What should be the value for the keyword argument `on`?"
   ]
  },
  {
   "cell_type": "code",
   "execution_count": null,
   "metadata": {},
   "outputs": [],
   "source": [
    "pneumonia_note_df = pd.merge(pat_admit_pneumonia_df, chest_xray_note_df, on = ???)\n",
    "pneumonia_note_df.head()"
   ]
  },
  {
   "cell_type": "code",
   "execution_count": null,
   "metadata": {},
   "outputs": [],
   "source": [
    "pneumonia_note_df.tail()"
   ]
  },
  {
   "cell_type": "markdown",
   "metadata": {},
   "source": [
    "## 5. Some ideas on selecting which reports to use \n",
    "![image.png](./Slide_pngs/Slide16.png)"
   ]
  },
  {
   "cell_type": "markdown",
   "metadata": {},
   "source": [
    "## 6. What sample size should you use?\n",
    "![image.png](./Slide_pngs/Slide18.png)"
   ]
  },
  {
   "cell_type": "markdown",
   "metadata": {},
   "source": [
    "## 7. Example Code For Stratified Sampling\n"
   ]
  },
  {
   "cell_type": "markdown",
   "metadata": {},
   "source": [
    "We sampled notes where the encounter was coded for Pneumonia (ICD-9 code 486.* ) and where it was not coded.  We performed stratified sampling of a percentage of notes from one and the remainder from the other."
   ]
  },
  {
   "cell_type": "code",
   "execution_count": null,
   "metadata": {},
   "outputs": [],
   "source": [
    "# select notes from the encounters without code\n",
    "group0_notes=pneumonia_note_df.loc[pneumonia_note_df['Encounter_Pneumonia_Diagnosis'] == 0]\n",
    "# select notes from the encounters with code\n",
    "group1_notes=pneumonia_note_df.loc[pneumonia_note_df['Encounter_Pneumonia_Diagnosis'] == 1]\n",
    "# sampling within each group and then shuffle\n",
    "samples=pd.concat([group0_notes.sample(10),group1_notes.sample(30)]).sample(frac=1)\n",
    "samples.shape"
   ]
  },
  {
   "cell_type": "code",
   "execution_count": null,
   "metadata": {},
   "outputs": [],
   "source": [
    "# display the first 10 notes\n",
    "samples.head(10)"
   ]
  },
  {
   "cell_type": "markdown",
   "metadata": {},
   "source": [
    "<br/><br/>This material presented as part of the DeCART Data Science for the Health Science Summer Program at the University of Utah in 2018.<br/>\n",
    "Presenters : Dr. Wendy Chapman, Jianlin Shi <br> Acknowledgement: Many thanks to Kelly Peterson and Olga Patterson because part of the materials are adopted from his previous work."
   ]
  },
  {
   "cell_type": "code",
   "execution_count": null,
   "metadata": {},
   "outputs": [],
   "source": []
  }
 ],
 "metadata": {
  "kernelspec": {
   "display_name": "Python [default]",
   "language": "python",
   "name": "python3"
  },
  "language_info": {
   "codemirror_mode": {
    "name": "ipython",
    "version": 3
   },
   "file_extension": ".py",
   "mimetype": "text/x-python",
   "name": "python",
   "nbconvert_exporter": "python",
   "pygments_lexer": "ipython3",
   "version": "3.6.3"
  }
 },
 "nbformat": 4,
 "nbformat_minor": 2
}
