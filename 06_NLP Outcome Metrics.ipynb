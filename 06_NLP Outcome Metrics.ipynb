{
 "cells": [
  {
   "cell_type": "markdown",
   "metadata": {},
   "source": [
    "# Your annotated set acts as a reference standard\n",
    "## you will measure performance of your NLP tool  against the reference standard"
   ]
  },
  {
   "cell_type": "markdown",
   "metadata": {},
   "source": [
    "# There are many metrics relevant to an annotated dataset\n",
    "1. Agreement between pairs of annotators who created your reference standard\n",
    "2. Agreement between an NLP system and the reference standard"
   ]
  },
  {
   "cell_type": "markdown",
   "metadata": {},
   "source": [
    "## 1. Agreement between annotators\n",
    "![image.png](./Slide_pngs/Slide26.png)\n",
    "![image.png](./Slide_pngs/Slide27.png)\n",
    "![image.png](./Slide_pngs/Slide28.png)\n",
    "![image.png](./Slide_pngs/Slide29.png)\n",
    "![image.png](./Slide_pngs/Slide30.png)\n",
    "![image.png](./Slide_pngs/Slide31.png)\n",
    "![image.png](./Slide_pngs/Slide32.png)\n",
    "![image.png](./Slide_pngs/Slide33.png)\n",
    "![image.png](./Slide_pngs/Slide34.png)\n",
    "![image.png](./Slide_pngs/Slide35.png)\n"
   ]
  },
  {
   "cell_type": "markdown",
   "metadata": {},
   "source": [
    "# Let's write some python code to calculate agreement metrics\n",
    "![image.png](./Slide_pngs/Slide32.png)"
   ]
  },
  {
   "cell_type": "code",
   "execution_count": 4,
   "metadata": {},
   "outputs": [],
   "source": [
    "# calculate Inter-annotator agreement\n",
    "def calculate_IAA(a, b, c):\n",
    "    IAA = (2*a)/(2*a+b+c)\n",
    "    return IAA"
   ]
  },
  {
   "cell_type": "code",
   "execution_count": 8,
   "metadata": {},
   "outputs": [
    {
     "name": "stdout",
     "output_type": "stream",
     "text": [
      "0.8333333333333334\n"
     ]
    }
   ],
   "source": [
    "a = 10\n",
    "b = 2\n",
    "c = 2\n",
    "IAA = calculate_IAA(a, b, c)\n",
    "print(IAA)"
   ]
  },
  {
   "cell_type": "markdown",
   "metadata": {},
   "source": [
    "## 2. Agreement between your NLP tool and the reference standard\n",
    "### a = true positives\n",
    "### b = false positives\n",
    "### c = false negatives\n",
    "\n",
    "### Recall: proportion of correct positive classifications from cases that are truly positive\n",
    "What is the formula?\n",
    "\n",
    "### Precision: proportion of correct positive classifications from cases the NLP system labeled as positive\n",
    "What is the formula"
   ]
  },
  {
   "cell_type": "code",
   "execution_count": 9,
   "metadata": {},
   "outputs": [],
   "source": [
    "# calculate recall and precision\n",
    "def calculate_metrics(a, b, c):\n",
    "    recall = a/(a+c)\n",
    "    precision = a/(a+b)\n",
    "    return recall, precision"
   ]
  },
  {
   "cell_type": "code",
   "execution_count": 11,
   "metadata": {},
   "outputs": [
    {
     "name": "stdout",
     "output_type": "stream",
     "text": [
      "0.7692307692307693 0.8333333333333334\n"
     ]
    }
   ],
   "source": [
    "a = 10\n",
    "b = 2\n",
    "c = 3\n",
    "recall, precision = calculate_metrics(a, b, c)\n",
    "print(recall, precision)"
   ]
  },
  {
   "cell_type": "markdown",
   "metadata": {},
   "source": [
    "# Additional Resources "
   ]
  },
  {
   "cell_type": "code",
   "execution_count": 1,
   "metadata": {},
   "outputs": [
    {
     "data": {
      "image/jpeg": "[encoded data removed]",
      "text/html": [
       "\n",
       "        <iframe\n",
       "            width=\"400\"\n",
       "            height=\"300\"\n",
       "            src=\"https://www.youtube.com/embed/VPZiJGNX4_s\"\n",
       "            frameborder=\"0\"\n",
       "            allowfullscreen\n",
       "        ></iframe>\n",
       "        "
      ],
      "text/plain": [
       "<IPython.lib.display.YouTubeVideo at 0x7f4e0003dfd0>"
      ]
     },
     "execution_count": 1,
     "metadata": {},
     "output_type": "execute_result"
    }
   ],
   "source": [
    "from IPython.display import YouTubeVideo\n",
    "YouTubeVideo(\"VPZiJGNX4_s\")"
   ]
  },
  {
   "cell_type": "markdown",
   "metadata": {},
   "source": [
    "<br/><br/>This material presented as part of the DeCART Data Science for the Health Science Summer Program at the University of Utah in 2018.<br/>\n",
    "Presenters : Dr. Wendy Chapman, Jianlin Shi <br> Acknowledgement: Many thanks to Kelly Peterson and Olga Patterson because part of the materials are adopted from his previous work."
   ]
  },
  {
   "cell_type": "code",
   "execution_count": null,
   "metadata": {},
   "outputs": [],
   "source": []
  }
 ],
 "metadata": {
  "kernelspec": {
   "display_name": "Python 3",
   "language": "python",
   "name": "python3"
  },
  "language_info": {
   "codemirror_mode": {
    "name": "ipython",
    "version": 3
   },
   "file_extension": ".py",
   "mimetype": "text/x-python",
   "name": "python",
   "nbconvert_exporter": "python",
   "pygments_lexer": "ipython3",
   "version": "3.6.3"
  }
 },
 "nbformat": 4,
 "nbformat_minor": 2
}
