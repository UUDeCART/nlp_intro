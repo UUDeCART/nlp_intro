{
 "cells": [
  {
   "cell_type": "markdown",
   "metadata": {},
   "source": [
    "# You Be The NLP Algorithm\n",
    "The first step to designing an NLP algorithm is to try to do the task yourself - you will be amazed at how much knowledge you have about how to identify information from text and how much knowledge an NLP algorithm must have to perform as well as a human. "
   ]
  },
  {
   "cell_type": "markdown",
   "metadata": {},
   "source": [
    "## Your task\n",
    "You need to design an NLP system to identify respiratory-related concepts from emergency departmet reports to look for potentially new outbreaks in the community. Here are the concepts you want to look for:\n",
    "\n",
    "* dyspnea\n",
    "* sinusitus\n",
    "* pneumonia\n",
    "* fever\n",
    "* cervical adenopathy"
   ]
  },
  {
   "cell_type": "markdown",
   "metadata": {},
   "source": [
    "## Highlight each of these concepts in this report\n",
    "Click in the cell below, and select the pen button on the menu to annotate.\n",
    "--- When you click Close, your annotations will disappear, so leave the annotation tool open until we finish our discussion ----"
   ]
  },
  {
   "cell_type": "markdown",
   "metadata": {},
   "source": [
    "Patient has a past history of pneumonia 2 months ago. He has been taking \n",
    "Augment for the past several days, empirically for\n",
    "a presumptive sinusitis. However, he continues to have a frontal headache.\n",
    "Additionally the patient has had cough productive of green sputum and some\n",
    "dyspnea.  This prompted him to come to the Emergency Department\n",
    "this afternoon. \n",
    "\n",
    "PHYSICAL EXAMINATION:\n",
    "On my examination the patient is alert and oriented. He is modestly febrile,\n",
    "neither tachypneic or tachycardic and he is normotensive. \n",
    "HEENT: Normocephalic, atraumatic. Sclerae nonicteric. He has some frontal\n",
    "sinus tenderness. There is no maxillary sinus tenderness. Pupils are equally\n",
    "round and reactive to light. Extraocular movements are intact. Funduscopic\n",
    "exam reveals sharp disk margins. His TMs are clear bilaterally. His throat is\n",
    "without significant erythema or exudate. Temperature is 39.5 C.\n",
    "NECK: supple without adenopathy or JVD. \n",
    "LUNGS: His lung sounds have crackles and wheezing predominantly in the right\n",
    "lung fields posteriorly. There is also some wheezing left posteriorly. \n",
    "ABDOMEN: His abdomen is soft and nontender without hepatosplenomegaly or\n",
    "masses. \n",
    "EXTREMITIES: Without cyanosis or edema. \n",
    "SKIN: Without rashes. \n",
    "NEUROLOGICAL EXAM: Normal. \n",
    "\n",
    "ED COURSE: \n",
    "He was hydrated with crystalloid IV solution. The patient received an\n",
    "albuterol aerosol treatment and was feeling much more comfortable from a\n",
    "respiratory perspective subsequent to that. His wheezing had decreased. \n",
    "A chest x-ray was obtained. Per the radiology interpretation it reveals\n",
    "bilateral interstitial pulmonary infiltrates. \n",
    "The patient was discharged with antibiotic therapy. Patient should return for increased \n",
    "shortness of breath or recurring fever.\n",
    "\n",
    "DISCHARGE DIAGNOSIS (ES): \n",
    "BILATERALLY INTERSTITIAL PNEUMONIA. "
   ]
  },
  {
   "cell_type": "markdown",
   "metadata": {},
   "source": [
    "## Once you mark the mentions of the concepts, you must assign a single value to the patient \n",
    "### For the task we are designing, we want to know whether the concept is present, absent, or historical\n",
    "Let's walk through each concept together:\n",
    "Download this file: Chapman_NLP_Tutorial-Report-Answers-notebooks.pdf"
   ]
  },
  {
   "cell_type": "markdown",
   "metadata": {},
   "source": [
    "## Let's discuss the issues important for NLP development when working with clinical notes\n",
    "Chapman_NLP_Difficult_Short.pdf"
   ]
  },
  {
   "cell_type": "code",
   "execution_count": null,
   "metadata": {},
   "outputs": [],
   "source": []
  },
  {
   "cell_type": "code",
   "execution_count": null,
   "metadata": {},
   "outputs": [],
   "source": []
  }
 ],
 "metadata": {
  "kernelspec": {
   "display_name": "Python 3",
   "language": "python",
   "name": "python3"
  },
  "language_info": {
   "codemirror_mode": {
    "name": "ipython",
    "version": 3
   },
   "file_extension": ".py",
   "mimetype": "text/x-python",
   "name": "python",
   "nbconvert_exporter": "python",
   "pygments_lexer": "ipython3",
   "version": "3.5.5"
  }
 },
 "nbformat": 4,
 "nbformat_minor": 2
}
