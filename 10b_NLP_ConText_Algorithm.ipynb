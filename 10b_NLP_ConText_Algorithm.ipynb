{
 "cells": [
  {
   "cell_type": "markdown",
   "metadata": {},
   "source": [
    "# ConText -- Assigning contextual values to concepts\n"
   ]
  },
  {
   "cell_type": "markdown",
   "metadata": {},
   "source": [
    "* \"The patient denies chest pain\" --> chest pain is negated (not affirmed)\n",
    "* \"Past history of pneumonia\" --> pneumonia is historical (not current)\n",
    "* \"Should return for fever\" --> fever is conditional (not actual)\n",
    "\n",
    "The slideshow below gives a history of the ConText algorithm, including the pyConText implementation you will be using in this class"
   ]
  },
  {
   "cell_type": "markdown",
   "metadata": {},
   "source": [
    "NegEx-ConText-Short.pdf"
   ]
  },
  {
   "cell_type": "markdown",
   "metadata": {},
   "source": [
    "Now take a quiz to see how well you understand the ConText algorithm:\n",
    "\n",
    "https://goo.gl/forms/9FXVWiWGRQd6zeqF2"
   ]
  },
  {
   "cell_type": "code",
   "execution_count": null,
   "metadata": {
    "collapsed": true
   },
   "outputs": [],
   "source": []
  }
 ],
 "metadata": {
  "kernelspec": {
   "display_name": "Python 3",
   "language": "python",
   "name": "python3"
  },
  "language_info": {
   "codemirror_mode": {
    "name": "ipython",
    "version": 3
   },
   "file_extension": ".py",
   "mimetype": "text/x-python",
   "name": "python",
   "nbconvert_exporter": "python",
   "pygments_lexer": "ipython3",
   "version": "3.5.5"
  }
 },
 "nbformat": 4,
 "nbformat_minor": 2
}
