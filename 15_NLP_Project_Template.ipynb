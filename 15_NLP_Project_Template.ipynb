{
 "cells": [
  {
   "cell_type": "markdown",
   "metadata": {},
   "source": [
    "# Now it's time to work on the final group project.  All of the pieces we've learned are integrated into this initial template to work on improving F1 measure on classification of pneumonia evidence\n",
    "\n",
    "# You are welcome to spend your time however you'd like but here are a few ideas of how to improve your system:\n",
    "* Improve targets.  Are there any False Negatives your system is missing?  Are there regular expressions that would help?\n",
    "* Improve modifiers.  Not all modifiers typically used in practice are the modifiers starter file.  Are there some to add?  Do some existing modifiers cause problems in your processing?  They can be changed or removed.\n",
    "* Improve document classification rules.  What rules work best?  What is the best \"default\" classification?\n",
    "* Consider handling of document \"sections\".  Are there certain headers or subsections which are more or less likely to contain evidence?  You could modify your own \"markup\" function to do this or you could add Modifiers to do this in some cases\n",
    "\n",
    "# Also before we get going, a few Pro Tips:\n",
    "* Remember that pyConText files need to be tab delimited.  If you edit these files in JupyterHub, it might be difficult to see the tabs and if you press \"TAB\" you will actually get spaces, so try to use Copy-and-Paste\n",
    "* Classification rules and modifiers are difficult.  Don't be afraid to ask for help"
   ]
  },
  {
   "cell_type": "code",
   "execution_count": 1,
   "metadata": {},
   "outputs": [],
   "source": [
    "# Let's import some packages\n",
    "import os\n",
    "import pyConTextNLP\n",
    "from pyConTextNLP import pyConTextGraph\n",
    "import sklearn.metrics\n",
    "import pandas as pd\n",
    "import networkx as nx\n",
    "import radnlp.view as rview\n",
    "\n",
    "from ipywidgets import interact, interactive, fixed, interact_manual\n",
    "from IPython.display import display, HTML, Image\n",
    "import ipywidgets\n",
    "# And also our utilities for this class\n",
    "\n",
    "from nlp_pneumonia_utils import read_doc_annotations\n",
    "from nlp_pneumonia_utils import mark_document_with_html\n",
    "from DocumentClassifier import DocumentClassifier\n",
    "from visual import view_pycontext_output\n",
    "from visual import snippets_markup"
   ]
  },
  {
   "cell_type": "markdown",
   "metadata": {},
   "source": [
    "## Load our training set"
   ]
  },
  {
   "cell_type": "code",
   "execution_count": 2,
   "metadata": {},
   "outputs": [
    {
     "name": "stdout",
     "output_type": "stream",
     "text": [
      "Reading annotations from file : data/training_v2.zip\n",
      "Opening local file : data/training_v2.zip\n",
      "Total Annotated Documents : 70\n"
     ]
    }
   ],
   "source": [
    "annotated_doc_map = read_doc_annotations('data/training_v2.zip')\n",
    "\n",
    "# let's also use a simple list of documents as well as this map\n",
    "annotated_docs = list(annotated_doc_map.values())\n",
    "\n",
    "print('Total Annotated Documents : {0}'.format(len(annotated_docs)))"
   ]
  },
  {
   "cell_type": "markdown",
   "metadata": {},
   "source": [
    "## Construct our Document Classifier"
   ]
  },
  {
   "cell_type": "code",
   "execution_count": 3,
   "metadata": {},
   "outputs": [],
   "source": [
    "pos_doc_type='PNEUMONIA_DOC_YES'\n",
    "TARGETS_FILE_PATH = 'KB/pneumonia_targets.tsv'\n",
    "MODIFIERS_FILE_PATH = 'KB/pneumonia_modifiers.tsv'\n",
    "FEATURE_INFERENCER_FILE_PATH = 'KB/featurer_inferences.csv'\n",
    "DOC_INFERENCER_FILE_PATH = 'KB/doc_inferences.csv'\n",
    "# clear just in case files/regular expressions have been updated\n",
    "classifier = DocumentClassifier(TARGETS_FILE_PATH, MODIFIERS_FILE_PATH,\n",
    "                               FEATURE_INFERENCER_FILE_PATH, DOC_INFERENCER_FILE_PATH,\n",
    "                               {pos_doc_type})"
   ]
  },
  {
   "cell_type": "markdown",
   "metadata": {},
   "source": [
    "## Let's attempt some predictions\n",
    "* You will do a lot of iterations modifying content and then coming back here to check performane\n",
    "* Remember : the prediction function passed here passes in a string (text) and returns a 0 or 1"
   ]
  },
  {
   "cell_type": "code",
   "execution_count": 4,
   "metadata": {},
   "outputs": [
    {
     "name": "stdout",
     "output_type": "stream",
     "text": [
      "Start to evaluate against reference standards...\n",
      "Precision : 0.519\n",
      "Recall :    0.824\n",
      "F1:         0.636\n"
     ]
    },
    {
     "data": {
      "text/html": [
       "<div>\n",
       "<style scoped>\n",
       "    .dataframe tbody tr th:only-of-type {\n",
       "        vertical-align: middle;\n",
       "    }\n",
       "\n",
       "    .dataframe tbody tr th {\n",
       "        vertical-align: top;\n",
       "    }\n",
       "\n",
       "    .dataframe thead th {\n",
       "        text-align: right;\n",
       "    }\n",
       "</style>\n",
       "<table border=\"1\" class=\"dataframe\">\n",
       "  <thead>\n",
       "    <tr style=\"text-align: right;\">\n",
       "      <th>Predicted</th>\n",
       "      <th>0</th>\n",
       "      <th>1</th>\n",
       "    </tr>\n",
       "    <tr>\n",
       "      <th>Actual</th>\n",
       "      <th></th>\n",
       "      <th></th>\n",
       "    </tr>\n",
       "  </thead>\n",
       "  <tbody>\n",
       "    <tr>\n",
       "      <th>0</th>\n",
       "      <td>10</td>\n",
       "      <td>26</td>\n",
       "    </tr>\n",
       "    <tr>\n",
       "      <th>1</th>\n",
       "      <td>6</td>\n",
       "      <td>28</td>\n",
       "    </tr>\n",
       "  </tbody>\n",
       "</table>\n",
       "</div>"
      ],
      "text/plain": [
       "Predicted   0   1\n",
       "Actual           \n",
       "0          10  26\n",
       "1           6  28"
      ]
     },
     "metadata": {},
     "output_type": "display_data"
    }
   ],
   "source": [
    "current_false_negatives, current_false_positives, measurements,confusion_matrix_df = classifier.eval(annotated_doc_map)\n",
    "print(measurements)\n",
    "display(confusion_matrix_df)"
   ]
  },
  {
   "cell_type": "markdown",
   "metadata": {},
   "source": [
    "## Development of your system:\n",
    "* We have found the tools below for highlighting and graphing False Positives and False Negatives to be very useful.  We've provided them below in case it helps you as well"
   ]
  },
  {
   "cell_type": "markdown",
   "metadata": {},
   "source": [
    "## For False Negatives, it's most useful to see the expert span annotations for positive pneumonia evidence to see if there may be targets that should be added"
   ]
  },
  {
   "cell_type": "code",
   "execution_count": 8,
   "metadata": {
    "scrolled": true
   },
   "outputs": [
    {
     "data": {
      "text/html": [
       "<html><div style=\"background-color:#f9f9f9;padding-left:10px;width: 877px; \"><table width=100% ><col style=\"width:25%\"><col style=\"width:75%\"></div><tr><th style=\"text-align:center\">document name</th><th style=\"text-align:center\">Snippets</th></table></div><div style=\"background-color:#f9f9f9;padding:10px; width: 900px; height: 400px; overflow-y: scroll;\"><table width=100% ><col style=\"width:25%\"><col style=\"width:75%\"><tr><td style=\"text-align:left\">subject_id_7675_hadm_id_3</td><td></td></tr><tr><td></td><td style=\"text-align:left\">r contours are stable\n",
       "     since the prior study. <span style=\"color: blue;\">There is persistent opacification in the right lower\n",
       "     lung zone</span>. The pulmonary vascularity is unremarkable. The e</td></tr><tr><td></td><td style=\"text-align:left\">terminating in the left IJ. No\n",
       "     pneumothorax. <span style=\"color: blue;\">Persistent right lower lung zone opacification</span> and probable\n",
       "     small effusion.\n",
       "\n",
       "</td></tr><tr><td style=\"text-align:left\">subject_id_8370_hadm_id_20245</td><td></td></tr><tr><td></td><td style=\"text-align:left\"> shown\n",
       "     on the recent CT torso.\n",
       "     \n",
       "     2) <span style=\"color: blue;\">Improving basilar opacities</span> which may reflect improving atelectasis,\n",
       "     con</td></tr><tr><td></td><td style=\"text-align:left\">roving atelectasis,\n",
       "     contusion or aspiration. <span style=\"color: blue;\">Underlying infectious process in the left lower lobe\n",
       "     is not fully excluded.</span>\n",
       "     \n",
       "     3) Small left pleural effusion. Right </td></tr><tr><td></td><td style=\"text-align:left\">interval improvement in\n",
       "     previously described <span style=\"color: blue;\">basilar lung opacities with residual opacity</span> more\n",
       "     prominent at the left base on the right</td></tr><tr><td style=\"text-align:left\">subject_id_9082_hadm_id_29395</td><td></td></tr><tr><td></td><td style=\"text-align:left\">tient with seizure.\n",
       "     \n",
       "     Low lung volumes.  <span style=\"color: blue;\">Bilateral basilar opacities,</span> considerably larger at the\n",
       "     left base than at</td></tr><tr><td></td><td style=\"text-align:left\">hyroid.\n",
       "     \n",
       "     IMPRESSION:  Lung volumes with <span style=\"color: blue;\">bilateral basilar opacities.</span>\n",
       "     \n",
       "     Question substernal thyroid enlargemen</td></tr><tr><td style=\"text-align:left\">subject_id_7820_hadm_id_9085</td><td></td></tr><tr><td></td><td style=\"text-align:left\">a are unchanged.  Since\n",
       "     the prior study, the <span style=\"color: blue;\">patchy bilateral areas of consolidation have increased,</span>\n",
       "     most notably in the left lower lobe.  Perihi</td></tr><tr><td></td><td style=\"text-align:left\">  IMPRESSION:  Emphysema with pulmonary edema and <span style=\"color: blue;\">multifocal\n",
       "     pneumonia/aspiration</span>, worse since the previous study.\n",
       "\n",
       "</td></tr><tr><td style=\"text-align:left\">subject_id_8898_hadm_id_27562</td><td></td></tr><tr><td></td><td style=\"text-align:left\">ic pulmonary edema,\n",
       "     obscuring the previously <span style=\"color: blue;\">more discrete consolidation</span> in the left upper and\n",
       "     right lower lung zones</td></tr><tr><td></td><td style=\"text-align:left\">er the SVC.  No pneumothorax.\n",
       "     \n",
       "     Overall, <span style=\"color: blue;\">findings are consistent with edema superimposed on pneumonia and\n",
       "     possible multifocal opportunistic infection.</span>\n",
       "                                                 </td></tr><tr><td style=\"text-align:left\">subject_id_3_hadm_id_2075</td><td></td></tr><tr><td></td><td style=\"text-align:left\">1 PM on [**2682-9-9**]. There is no pneumothorax. <span style=\"color: blue;\">There is a good\n",
       "     deal of opacification at the left base.</span> The heart is normal in size. There is\n",
       "     pulmon</td></tr><tr><td style=\"text-align:left\">subject_id_8156_hadm_id_23798</td><td></td></tr><tr><td></td><td style=\"text-align:left\">PRESSION:  Findings consistent with CHF, although <span style=\"color: blue;\">underlying bilateral lower\n",
       "     lobe pneumonias cannot be excluded.</span> Follow up.\n",
       "\n",
       "</td></tr><tr><td></td><td style=\"text-align:left\">ziness and probable bilateral pleural effusions.  <span style=\"color: blue;\">Underlying infiltrate\n",
       "     within both lower lobes cannot be excluded.</span>  There is also a slight upper zone\n",
       "     redistrib</td></tr><tr><td style=\"text-align:left\">subject_id_283_hadm_id_17902</td><td></td></tr><tr><td></td><td style=\"text-align:left\">its.  The aorta is calcified.\n",
       "     There has been <span style=\"color: blue;\">no significant change in the patchy right-sided parenchymal\n",
       "     abnormalities, including air space opacities in the right mid and lower lung\n",
       "     zones.</span>  Allowing for differences in patient rotation the</td></tr><tr><td></td><td style=\"text-align:left\">es.  Allowing for differences in patient rotation <span style=\"color: blue;\">there has been no\n",
       "     significant change in the left perihilar infiltrate.</span>  The extreme right\n",
       "     costophrenic angle is exc</td></tr><tr><td style=\"text-align:left\">subject_id_7027_hadm_id_33117</td><td></td></tr><tr><td></td><td style=\"text-align:left\">ossibility of free\n",
       "     intraperitoneal air.\n",
       "     <span style=\"color: blue;\">2) Left lower lobe atelectasis/consolidation.</span>\n",
       "     3) Moderate gastric distention with multiple</td></tr><tr><td></td><td style=\"text-align:left\">stinal and hilar contours are\n",
       "     unremarkable.  <span style=\"color: blue;\">There is patchy opacity at the left lower lobe representing\n",
       "     either atelectasis or consolidation</span>.  No definite free air is identified,\n",
       "     howeve</td></tr><tr><td style=\"text-align:left\">subject_id_6605_hadm_id_7395</td><td></td></tr><tr><td></td><td style=\"text-align:left\">remarkable.\n",
       "     \n",
       "     IMPRESSION:\n",
       "     \n",
       "     1.  <span style=\"color: blue;\">Findings consistent with right upper lobe pneumonia with mild component\n",
       "     of volume loss.</span> Follow up study is recommended to ensure resoluti</td></tr><tr><td></td><td style=\"text-align:left\">stal SVC.  There is no evidence of pneumothorax.  <span style=\"color: blue;\">There is opacity in the\n",
       "     right upper lobe</span> with right minor fissure slightly elevated, consi</td></tr><tr><td style=\"text-align:left\">subject_id_6349_hadm_id_20192</td><td></td></tr><tr><td></td><td style=\"text-align:left\">There is no pulmonary vascular\n",
       "     engorgement.  <span style=\"color: blue;\">There is an increasing left-sided pleural effusion with\n",
       "     associated atelectasis.  Pneumonia at this location cannot be excluded.</span>  Noted\n",
       "     is a density in the left upper lung z</td></tr><tr><td style=\"text-align:left\">subject_id_4549_hadm_id_2263</td><td></td></tr><tr><td></td><td style=\"text-align:left\">     \n",
       "     SINGLE VIEW CHEST, AP:  There has been <span style=\"color: blue;\">interval opacification within the left\n",
       "     lower lobe consistent with consolidation</span>.  The pulmonary vasculature is within\n",
       "     normal</td></tr><tr><td></td><td style=\"text-align:left\">left-sided\n",
       "     pleural effusion also.\n",
       "     \n",
       "     <span style=\"color: blue;\">IMPRESSION:  Left lower lobe pneumonia.\n",
       "</span>\n",
       "</td></tr><tr><td style=\"text-align:left\">subject_id_157_hadm_id_26180</td><td></td></tr><tr><td></td><td style=\"text-align:left\">ung is incompletely imaged\n",
       "     on this study and <span style=\"color: blue;\">there is a questionable area of abnormality partially\n",
       "     obscuring the mid portion of the right hemidiaphragm</span>, incompletely evaluated.\n",
       "     \n",
       "     IMPRESSION:  </td></tr><tr><td style=\"text-align:left\">subject_id_5254_hadm_id_27414</td><td></td></tr><tr><td></td><td style=\"text-align:left\">on.  Left effusion also cannot\n",
       "     be excluded.  <span style=\"color: blue;\">There is retrocardiac opacity, likely atelectasis, although an\n",
       "     early developing pneumonia cannot be excluded.</span>  No definite edema is seen.\n",
       "     \n",
       "     IMPRESSION</td></tr><tr><td></td><td style=\"text-align:left\">ted examination due to multiple factors as above. <span style=\"color: blue;\">No\n",
       "     definite consolidation, although there is minimal retrocardiac opacity</span> which\n",
       "     may be atelectasis.  Right pleural eff</td></tr><tr><td style=\"text-align:left\">subject_id_8874_hadm_id_19488</td><td></td></tr><tr><td></td><td style=\"text-align:left\">and median sternotomy.\n",
       "     \n",
       "     Note is made of <span style=\"color: blue;\">increased nodular and linear opacities involving the right\n",
       "     upper lobe and left lower lobe</span>. In this patient with HIV and history of\n",
       "     che</td></tr><tr><td></td><td style=\"text-align:left\">    chemotherapy for seminoma, these findings are <span style=\"color: blue;\">worrisome for chronic infection\n",
       "     including fungus or microbacterial infection</span>. Further evaluation with CT scan\n",
       "     is recommen</td></tr><tr><td></td><td style=\"text-align:left\">here is slight prominence of the left hilum.  The <span style=\"color: blue;\">patchy\n",
       "     opacity in the left lower lobe could represent bronchopneumonia</span>.  The heart\n",
       "     is normal in size. There is no e</td></tr><tr><td style=\"text-align:left\">subject_id_8734_hadm_id_8478</td><td></td></tr><tr><td></td><td style=\"text-align:left\">  Fluid overload vs. congestive failure.\n",
       "     2)  <span style=\"color: blue;\">Possible developing left infiltrate</span>.\n",
       "\n",
       "</td></tr><tr><td></td><td style=\"text-align:left\">minent, consistent with fluid overload.  There is <span style=\"color: blue;\">increased opacity within\n",
       "     the left lower lung. It is not clear if this is related to technique,\n",
       "     overlying soft tissue, or an underlying infiltrate</span>. There is no definite\n",
       "     pleural effusion.  The</td></tr><tr><td style=\"text-align:left\">subject_id_146_hadm_id_18965</td><td></td></tr><tr><td></td><td style=\"text-align:left\">al effusion.\n",
       "     Right CPA not included on film. <span style=\"color: blue;\">There is obscuration of left hemidiaphragm\n",
       "     likely secondary to atelectasis/consolidation</span> in left lower lobe.\n",
       "\n",
       "</td></tr><tr><td style=\"text-align:left\">subject_id_377_hadm_id_18739</td><td></td></tr><tr><td></td><td style=\"text-align:left\">e unremarkable.\n",
       "     \n",
       "     IMPRESSION:\n",
       "     \n",
       "     <span style=\"color: blue;\">1. Ill-defined opacity at the right base, consistent with atelectasis vs.\n",
       "     early focus of pneumonia vs. aspiration.</span>\n",
       "      Followup radiographs may be helpful.\n",
       "\n",
       "</td></tr><tr><td></td><td style=\"text-align:left\">ffusion.  There is no focal consolidation noted.  <span style=\"color: blue;\">There is evidence of patchy\n",
       "     opacity noted at the right base, consistent with atelectasis vs. pneumonia.</span>\n",
       "     Visualized osseous structures are unremarkab</td></tr><tr><td style=\"text-align:left\">subject_id_8494_hadm_id_20131</td><td></td></tr><tr><td></td><td style=\"text-align:left\">lung and right mediastinal\n",
       "     lymphadenopathy.  <span style=\"color: blue;\">Patchy opacities are seen throughout the right lung which\n",
       "     could be due to atelectasis from compression of the right lung or represent\n",
       "     air space consolidation.</span>  An ET tube is identified with tip 6.3 cm from th</td></tr><tr><td style=\"text-align:left\">subject_id_7976_hadm_id_21306</td><td></td></tr><tr><td></td><td style=\"text-align:left\"> shadows are again noted.\n",
       "     \n",
       "     IMPRESSION:  <span style=\"color: blue;\">Diffuse interstitial pneumonitis with areas of air space opacity</span>\n",
       "     at bilateral bases and small bilateral pleur</td></tr><tr><td></td><td style=\"text-align:left\">ral bases and small bilateral pleural effusions.  <span style=\"color: blue;\">In the appropriate\n",
       "     clinical setting this is compatible with appearance of PCP</span> [**Name Initial (PRE) 3444**].  Other\n",
       "     atypic</td></tr><tr><td></td><td style=\"text-align:left\">    effusions, right greater than left.  There is <span style=\"color: blue;\">diffuse interstitial opacity\n",
       "     with areas at the bilateral bases of greater confluence suggestive of air\n",
       "     space disease</span>.  Pulmonary vascularity appears unremarkable.  Th</td></tr><tr><td style=\"text-align:left\">subject_id_157_hadm_id_28307</td><td></td></tr><tr><td></td><td style=\"text-align:left\">ION:  AP chest compared to [**6-21**]:\n",
       "     \n",
       "     <span style=\"color: blue;\">Bibasilar consolidation has increased</span> substantially, particularly on the\n",
       "     right, no</td></tr><tr><td></td><td style=\"text-align:left\">derate azygous distention is stable,\n",
       "     and the <span style=\"color: blue;\">lung findings are concerning for progressive pneumonia</span>.  ET tube and\n",
       "     right internal jugular line ar</td></tr><tr><td style=\"text-align:left\">subject_id_4246_hadm_id_14980</td><td></td></tr><tr><td></td><td style=\"text-align:left\">gs with flattening\n",
       "     of diaphragms.\n",
       "     \n",
       "     <span style=\"color: blue;\">IMPRESSION:  Left lower lobe pneumonia likely aspiration.</span>  Emphysema.\n",
       "\n",
       "</td></tr><tr><td></td><td style=\"text-align:left\">ness of breath.\n",
       "     \n",
       "     CHEST PA AND LATERAL:  <span style=\"color: blue;\">Consolidation is seen in the left lower lobe.</span>  The\n",
       "     heart size, mediastinal and hilar conto</td></tr><tr><td style=\"text-align:left\">subject_id_7272_hadm_id_19098</td><td></td></tr><tr><td></td><td style=\"text-align:left\">rt failure with bilateral pleural effusions.\n",
       "     <span style=\"color: blue;\">Collapse and/or consolidation at the bases bilaterally.\n",
       "</span>\n",
       "</td></tr><tr><td></td><td style=\"text-align:left\">rall heart size is difficult to assess.  There is <span style=\"color: blue;\">dense retrocardiac\n",
       "     opacity, possibly secondary to collapse and/or consolidation</span> in the left lower\n",
       "     lobe.  There is also a rig</td></tr><tr><td></td><td style=\"text-align:left\">ion in the left lower\n",
       "     lobe.  There is also a <span style=\"color: blue;\">right lower lobe and middle lobe opacity consistent\n",
       "     with collapse and/or consolidation</span>.\n",
       "     \n",
       "     IMPRESSION: Persistent left heart fai</td></tr><tr><td style=\"text-align:left\">subject_id_7204_hadm_id_13542</td><td></td></tr><tr><td></td><td style=\"text-align:left\">on.  No pneumothorax.\n",
       "     \n",
       "     IMPRESSION:\n",
       "     <span style=\"color: blue;\">Worsening consolidation in the left lower lobe.\n",
       "</span>\n",
       "</td></tr><tr><td></td><td style=\"text-align:left\">.  The NG tube courses below the\n",
       "     diaphragm.  <span style=\"color: blue;\">There has been interval worsening of the left lower lobe opacity.</span>\n",
       "     There is a small left pleural effusion.  No </td></tr><tr><td style=\"text-align:left\">subject_id_7525_hadm_id_19141</td><td></td></tr><tr><td></td><td style=\"text-align:left\">n distal superior vena cava, unchanged.  There is <span style=\"color: blue;\">marked\n",
       "     improvement of the bilateral consolidations</span>, especially on the right. The NG\n",
       "     tube tip is</td></tr><tr><td style=\"text-align:left\">subject_id_105_hadm_id_27261</td><td></td></tr><tr><td></td><td style=\"text-align:left\">re noted.\n",
       "     \n",
       "     IMPRESSION:  Left lower lobe <span style=\"color: blue;\">process suggesting pneumonia</span>.\n",
       "\n",
       "</td></tr><tr><td></td><td style=\"text-align:left\"> no pneumothorax\n",
       "     on this supine radiograph.  <span style=\"color: blue;\">A consolidation with air bronchograms in the left\n",
       "     lower lobe is new</span>.  No right-sided consolidations or effusions are </td></tr><tr><td style=\"text-align:left\">subject_id_7789_hadm_id_167</td><td></td></tr><tr><td></td><td style=\"text-align:left\">**].\n",
       "     \n",
       "     IMPRESSION:  CHF/fluid overload.  <span style=\"color: blue;\">Presumed right upper lobe pneumonia or other\n",
       "     air-space disease.</span>\n",
       "     \n",
       "\n",
       "</td></tr><tr><td></td><td style=\"text-align:left\">layering in semi-erect position.  There is a\n",
       "     <span style=\"color: blue;\">vague density overlying the right upper lobe, suggesting air-space disease.</span>\n",
       "     Bilateral prominence vascular interstitial m</td></tr><tr><td></td><td style=\"text-align:left\">re associated\n",
       "     with bibasilar atelectasis and <span style=\"color: blue;\">I cannot exclude consolidation in the obscured\n",
       "     left lower lobe.</span>  The vascular congestion, effusion, and right upp</td></tr><tr><td style=\"text-align:left\">subject_id_150_hadm_id_12121</td><td></td></tr><tr><td></td><td style=\"text-align:left\">es are\n",
       "     unremarkable.\n",
       "     \n",
       "     IMPRESSION:  <span style=\"color: blue;\">Small focal opacity in right upper lobe</span> and right paratracheal\n",
       "     opacity.  In the sett</td></tr><tr><td></td><td style=\"text-align:left\">CHEST PA AND LATERAL:  The heart size is normal.  <span style=\"color: blue;\">There is an area of\n",
       "     increased opacity</span> lateral to the right paratracheal stripe.  In the</td></tr><tr><td></td><td style=\"text-align:left\">pacity lateral to the right paratracheal stripe.  <span style=\"color: blue;\">In the right\n",
       "     upper lobe, there is a small focal opacity.</span>  The lungs are otherwise clear.\n",
       "     There are no</td></tr><tr><td style=\"text-align:left\">subject_id_5472_hadm_id_11987</td><td></td></tr><tr><td></td><td style=\"text-align:left\">id SVC. \n",
       "     There is no apparent pneumothorax.  <span style=\"color: blue;\">A right IJ line, NGT, and ETT are\n",
       "     unchanged as are the parenchymal changes in the lungs</span> compared to the earlier\n",
       "     chest x-ray this mor</td></tr><tr><td style=\"text-align:left\">subject_id_7718_hadm_id_7362</td><td></td></tr><tr><td></td><td style=\"text-align:left\">\n",
       "     IMPRESSION:\n",
       "     \n",
       "     1. Mild CHF.\n",
       "     2. <span style=\"color: blue;\">Left lower lobe consolidation with effusion, probably representing\n",
       "     pneumonia.</span>\n",
       "     3. Bilateral pleural thickening with faint o</td></tr><tr><td></td><td style=\"text-align:left\">umonia.\n",
       "     3. Bilateral pleural thickening with <span style=\"color: blue;\">faint opacity in bilateral upper lobes,</span>\n",
       "     which represent post-radiation change, as th</td></tr><tr><td style=\"text-align:left\">subject_id_5145_hadm_id_28342</td><td></td></tr><tr><td></td><td style=\"text-align:left\">e\n",
       "     superior vena cava into the right atrium.  <span style=\"color: blue;\">Mild interstitial and alveolar\n",
       "     abnormality in the right lung could represent asymmetric edema, early\n",
       "     pneumonia, or under the appropriate clinical circumstances, hemorrhage.</span>\n",
       "     \n",
       "     There is no pneumothorax or appreciabl</td></tr><tr><td style=\"text-align:left\">subject_id_7144_hadm_id_2402</td><td></td></tr><tr><td></td><td style=\"text-align:left\">tudies are available.\n",
       "     \n",
       "     IMPRESSION:\n",
       "     <span style=\"color: blue;\">1) Consolidation/collapse of the left lower lobe, this could be pneumonic.</span>\n",
       "     2) Possible small left effusion.\n",
       "     3) End</td></tr><tr><td></td><td style=\"text-align:left\">ed and there is elevation of the right diaphragm. <span style=\"color: blue;\">There is also evidence\n",
       "     of some collapse/consolidation</span> of the basal segments of the left lower lobe\n",
       "    </td></tr><tr><td style=\"text-align:left\">subject_id_261_hadm_id_19250</td><td></td></tr><tr><td></td><td style=\"text-align:left\">ignificant change compared with [**3197-12-9**].  <span style=\"color: blue;\">Bilateral pulmonary\n",
       "     opacities</span> involving the lower and mid lung zones.\n",
       "\n",
       "</td></tr><tr><td></td><td style=\"text-align:left\">c\n",
       "     angle is not included in this radiograph.  <span style=\"color: blue;\">There is left lower lobe\n",
       "     consolidation/collapse</span>.  There is bilateral lower zone and mid zone\n",
       "    </td></tr><tr><td></td><td style=\"text-align:left\"> is left lower lobe\n",
       "     consolidation/collapse.  <span style=\"color: blue;\">There is bilateral lower zone and mid zone\n",
       "     infiltrate.</span>  The heart size is slightly enlarged.\n",
       "     \n",
       "     </td></tr><tr><td style=\"text-align:left\">subject_id_148_hadm_id_27941</td><td></td></tr><tr><td></td><td style=\"text-align:left\">  IMPRESSION: Possible slight LV decompensation.  <span style=\"color: blue;\">Aspiration versus pneumonia in\n",
       "     posterior basal segment of left lower lobe</span>.\n",
       "\n",
       "</td></tr><tr><td></td><td style=\"text-align:left\">uggestive of mild LV decompinsation. In addition, <span style=\"color: blue;\">there is evidence\n",
       "     of atelectasis/infiltrate in the posterior basal segment of the left lower\n",
       "     lobe behind the heart.  This could be due to aspiration versus pneumonia.</span>\n",
       "     Followup examination is recommended to evalu</td></tr></table></div></html>"
      ],
      "text/plain": [
       "<IPython.core.display.HTML object>"
      ]
     },
     "metadata": {},
     "output_type": "display_data"
    }
   ],
   "source": [
    "fn_docs=dict((k, v) for k, v in annotated_doc_map.items() if k in current_false_negatives)\n",
    "display(HTML(snippets_markup(fn_docs)))"
   ]
  },
  {
   "cell_type": "code",
   "execution_count": 8,
   "metadata": {},
   "outputs": [
    {
     "name": "stdout",
     "output_type": "stream",
     "text": [
      "No documents to view.\n"
     ]
    }
   ],
   "source": [
    "# It may be still useful to check if your pyConText exclude unexpected annotations to result the false negative\n",
    "\n",
    "fn_docs = dict((k,v) for k, v in classifier.saved_markups_map.items() if k in current_false_negatives)\n",
    "view_pycontext_output(fn_docs)"
   ]
  },
  {
   "cell_type": "markdown",
   "metadata": {},
   "source": [
    "## For False Positives, it's most useful to see a pyConText graph since there may need to be modifiers adjusted so that targets can be properly utilized in classification"
   ]
  },
  {
   "cell_type": "code",
   "execution_count": 9,
   "metadata": {},
   "outputs": [
    {
     "data": {
      "text/html": [
       "<p>Failed to display Jupyter Widget of type <code>interactive</code>.</p>\n",
       "<p>\n",
       "  If you're reading this message in the Jupyter Notebook or JupyterLab Notebook, it may mean\n",
       "  that the widgets JavaScript is still loading. If this message persists, it\n",
       "  likely means that the widgets JavaScript library is either not installed or\n",
       "  not enabled. See the <a href=\"https://ipywidgets.readthedocs.io/en/stable/user_install.html\">Jupyter\n",
       "  Widgets Documentation</a> for setup instructions.\n",
       "</p>\n",
       "<p>\n",
       "  If you're reading this message in another frontend (for example, a static\n",
       "  rendering on GitHub or <a href=\"https://nbviewer.jupyter.org/\">NBViewer</a>),\n",
       "  it may mean that your frontend doesn't currently support widgets.\n",
       "</p>\n"
      ],
      "text/plain": [
       "interactive(children=(IntSlider(value=0, description='i', max=19), Output()), _dom_classes=('widget-interact',))"
      ]
     },
     "metadata": {},
     "output_type": "execute_result"
    }
   ],
   "source": [
    "fp_docs = dict((k,v) for k, v in classifier.saved_markups_map.items() if k in current_false_positives)\n",
    "view_pycontext_output(fp_docs)"
   ]
  },
  {
   "cell_type": "markdown",
   "metadata": {
    "collapsed": true
   },
   "source": [
    "# TEST SET Evaluation \n",
    "* We've been waiting for the test set.  It will not be available until the morning of the final class session.\n",
    "* At that time, you can uncomment this code and make any changes to it as instructed by the class instructors:"
   ]
  },
  {
   "cell_type": "code",
   "execution_count": null,
   "metadata": {
    "collapsed": true
   },
   "outputs": [],
   "source": [
    "#test_doc_map = read_doc_annotations('data/training_v2.zip')\n",
    "\n",
    "# let's also use a simple list of documents as well as this map\n",
    "#test_docs = list(test_doc_map.values())\n",
    "\n",
    "#print('Total Test Documents : {0}'.format(len(test_docs)))\n",
    "\n",
    "# and now let's check performance on the TEST set...\n",
    "#print('****************')\n",
    "#print('Performance for Classifier on TEST set :')\n",
    "#calculate_prediction_metrics(test_docs, docClassifier.predict)"
   ]
  },
  {
   "cell_type": "code",
   "execution_count": null,
   "metadata": {
    "collapsed": true
   },
   "outputs": [],
   "source": []
  },
  {
   "cell_type": "code",
   "execution_count": null,
   "metadata": {
    "collapsed": true
   },
   "outputs": [],
   "source": []
  },
  {
   "cell_type": "code",
   "execution_count": null,
   "metadata": {
    "collapsed": true
   },
   "outputs": [],
   "source": []
  },
  {
   "cell_type": "markdown",
   "metadata": {},
   "source": [
    "<br/><br/>This material presented as part of the DeCART Data Science for the Health Science Summer Program at the University of Utah in 2018.<br/>\n",
    "Presenters : Dr. Wendy Chapman, Jianlin Shi <br> Acknowledgement: Many thanks to Kelly Peterson, because part of the materials are adopted from his previous work."
   ]
  }
 ],
 "metadata": {
  "kernelspec": {
   "display_name": "Python 3",
   "language": "python",
   "name": "python3"
  },
  "language_info": {
   "codemirror_mode": {
    "name": "ipython",
    "version": 3
   },
   "file_extension": ".py",
   "mimetype": "text/x-python",
   "name": "python",
   "nbconvert_exporter": "python",
   "pygments_lexer": "ipython3",
   "version": "3.5.5"
  }
 },
 "nbformat": 4,
 "nbformat_minor": 2
}
